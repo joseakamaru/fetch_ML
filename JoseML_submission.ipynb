{
 "cells": [
  {
   "cell_type": "markdown",
   "metadata": {},
   "source": [
    "Your objective in this challenge is to write a program that calculates pixel coordinate values for an image that is to be displayed on a two dimensional surface given the dimensions of the image and the corner points of the image as it is to be displayed.\n",
    "\n",
    "\n",
    "For example, if an image is defined by a 3x3 grid of pixel values, and the (x, y) coordinates of the four corner points to display the image at are: (1, 1), (3, 1), (1, 3), and (3, 3) then the program should calculate and return the coordinates: (1, 1), (2, 1), (3, 1), (1, 2), (2, 2), (3, 2), (3, 1), (3, 2), (3, 3) which are the coordinates at which to place the 9 pixels in the image such that they’re evenly spaced within the corner points. The solution can be seen visually in the image below.\n",
    "\n",
    "\n",
    "### Input Specifications\n",
    "The program will take two inputs:\n",
    "\n",
    "#### 1. Image dimensions\n",
    "This will be a tuple defining the height and width of the image in terms of pixel counts.\n",
    "For example, an input for this parameter of (10, 12) means that the image has 10 rows and 12 columns.\n",
    "\n",
    "#### 2. Corner Points\n",
    "This will be a list of two-element tuples defining the x and y coordinates of the image corner points of the displayed image. It consists of four (x, y) pairs.\n",
    "The specification will follow the following example format:\n"
   ]
  },
  {
   "cell_type": "code",
   "execution_count": 10,
   "metadata": {},
   "outputs": [
    {
     "data": {
      "image/png": "[encoded data removed]",
      "text/plain": [
       "<Figure size 432x288 with 1 Axes>"
      ]
     },
     "metadata": {
      "needs_background": "light"
     },
     "output_type": "display_data"
    }
   ],
   "source": [
    "corner_points = [\n",
    "    (1.5, 1.5),  # (x, y)\n",
    "    (4.0, 1.5),  # (x, y)\n",
    "    (1.5, 8.0),  # (x, y)\n",
    "    (4.0, 8.0)]  # (x, y)\n",
    "corner_points\n",
    "\n",
    "# These corner points are represented visually in the plot below.\n",
    "import numpy as np\n",
    "import matplotlib.pyplot as plt\n",
    "from matplotlib.pyplot import figure\n",
    "\n",
    "x, y = np.array(corner_points).T\n",
    "plt.scatter(x,y)\n",
    "plt.show()"
   ]
  },
  {
   "cell_type": "markdown",
   "metadata": {},
   "source": [
    "### Output Specifications\n",
    "Your program should calculate and return the x and y coordinates at which to plot each pixel in the input image such that the pixels are evenly spaced within the rectangle defined by the corner points.\n",
    "The output should be of shape mxnx2 where m is the number of rows in the input image and n is the number of columns in the input image. The solution in the example at the beginning of this page would be:\n"
   ]
  },
  {
   "cell_type": "code",
   "execution_count": 23,
   "metadata": {},
   "outputs": [],
   "source": [
    "example_corner_points = [\n",
    "    (1, 1),  # (x, y)\n",
    "    (3, 1),  # (x, y)\n",
    "    (1, 3),  # (x, y)\n",
    "    (3, 3)]  # (x, y)\n",
    "\n",
    "\n",
    "solution = [\n",
    "    [[1.0, 3.0], [2.0, 3.0], [3.0, 3.0]],\n",
    "    [[1.0, 2.0], [2.0, 2.0], [3.0, 2.0]],\n",
    "    [[1.0, 1.0], [2.0, 1.0], [3.0, 1.0]]\n",
    "  ]"
   ]
  },
  {
   "cell_type": "markdown",
   "metadata": {},
   "source": [
    "For example, the x coordinate of the pixel at the top left corner of the image would be accessed with solution[0, 0, 0] and the y coordinate of the pixel at the bottom right of the image would be accessed with solution[3, 3, 1].\n",
    "\n",
    "### Assumptions & Requirements\n",
    "\n",
    "* Your program can assume that the corner points will define a rectangle with sides that are parallel to the x and y axes (the rectangle will not be rotated)\n",
    "* The corner points can be provided in any order, your program should determine which is the bottom left, top right etc.\n",
    "* You aren’t allowed to develop your solution using any image processing libraries, however please feel free to use array manipulation libraries such as NumPy\n",
    "* To enable us to run your program please package the application as a web service that performs that calculations in response to a POST request containing the inputs in the body of the payload. You may use external libraries (i.e, Flask).\n",
    "* Additionally, please package the web service in a Docker container that can either be built locally or pulled down and run via Docker hub.\n",
    "* lease submit your exercise by providing a link to a public repository (i.e., GitHub, Bitbucket) to your recruiter. The repository should include instructions for running your code"
   ]
  },
  {
   "cell_type": "code",
   "execution_count": 32,
   "metadata": {},
   "outputs": [],
   "source": [
    "import numpy as np\n",
    "\n",
    "corner_points = example_corner_points\n",
    "\n",
    "height_max = corner_points[0][1]\n",
    "height_min = corner_points[0][1]\n",
    "width_max = corner_points[0][0]\n",
    "width_min = corner_points[0][0]\n",
    "\n",
    "\n",
    "for i in range(1,len(corner_points)):\n",
    "    height_max = max(height_max, corner_points[i][1])\n",
    "    height_min = min(height_min, corner_points[i][1])\n",
    "    width_max = max(width_max,corner_points[i][0])\n",
    "    width_min = min(width_min, corner_points[i][0])\n",
    "\n",
    "\n"
   ]
  },
  {
   "cell_type": "code",
   "execution_count": 35,
   "metadata": {},
   "outputs": [
    {
     "data": {
      "text/plain": [
       "[1.0, 2.0, 3.0]"
      ]
     },
     "execution_count": 35,
     "metadata": {},
     "output_type": "execute_result"
    }
   ],
   "source": [
    "complete_width = list(np.linspace(width_min, width_max,3))\n",
    "complete_height = list(np.linspace(height_min,height_max,3))\n"
   ]
  },
  {
   "cell_type": "code",
   "execution_count": 41,
   "metadata": {},
   "outputs": [
    {
     "data": {
      "text/plain": [
       "[(1.0, 1.0),\n",
       " (1.0, 2.0),\n",
       " (1.0, 3.0),\n",
       " (2.0, 1.0),\n",
       " (2.0, 2.0),\n",
       " (2.0, 3.0),\n",
       " (3.0, 1.0),\n",
       " (3.0, 2.0),\n",
       " (3.0, 3.0)]"
      ]
     },
     "execution_count": 41,
     "metadata": {},
     "output_type": "execute_result"
    }
   ],
   "source": [
    "import itertools\n",
    "all_coordinates = list(itertools.product(complete_width, complete_height))\n",
    "all_coordinates"
   ]
  },
  {
   "cell_type": "code",
   "execution_count": null,
   "metadata": {},
   "outputs": [],
   "source": []
  },
  {
   "cell_type": "code",
   "execution_count": 54,
   "metadata": {},
   "outputs": [
    {
     "data": {
      "text/plain": [
       "[[[1.0, 1.0], [1.0, 2.0], [1.0, 3.0]],\n",
       " [[2.0, 1.0], [2.0, 2.0], [2.0, 3.0]],\n",
       " [[3.0, 1.0], [3.0, 2.0], [3.0, 3.0]]]"
      ]
     },
     "execution_count": 54,
     "metadata": {},
     "output_type": "execute_result"
    }
   ],
   "source": [
    "row_ans = list()\n",
    "final_ans = list()\n",
    "\n",
    "row_ans.append([all_coordinates[0][0], all_coordinates[0][1]])\n",
    "for i in range(1,len(all_coordinates)):\n",
    "    if all_coordinates[i][0] != row_ans[-1][0]:\n",
    "        final_ans.append(row_ans)\n",
    "        row_ans = list()\n",
    "    row_ans.append([all_coordinates[i][0], all_coordinates[i][1]])\n",
    "final_ans.append(row_ans)\n",
    "final_ans\n"
   ]
  },
  {
   "cell_type": "code",
   "execution_count": 53,
   "metadata": {},
   "outputs": [
    {
     "data": {
      "text/plain": [
       "[[[1.0, 1.0], [1.0, 2.0], [1.0, 3.0]], [[2.0, 1.0], [2.0, 2.0], [2.0, 3.0]]]"
      ]
     },
     "execution_count": 53,
     "metadata": {},
     "output_type": "execute_result"
    }
   ],
   "source": [
    "final_ans"
   ]
  },
  {
   "cell_type": "code",
   "execution_count": 72,
   "metadata": {},
   "outputs": [],
   "source": [
    "import numpy as np\n",
    "import itertools\n",
    "\n",
    "\n",
    "def createImageMatrix(corner_points:list, image_dimensions: tuple):\n",
    "\n",
    "    # Checks if the number of corner points is correct\n",
    "    if len(corner_points ) !=4 :\n",
    "        print('Wrong number of coordinates provided')\n",
    "        return\n",
    "\n",
    "    if len(image_dimensions) != 2:\n",
    "        print('Wrong shape of image_dimensions')\n",
    "        return\n",
    "\n",
    "    # Initial values are set base on the first coordinates provided\n",
    "    height_max = corner_points[0][1]\n",
    "    height_min = corner_points[0][1]\n",
    "    width_max = corner_points[0][0]\n",
    "    width_min = corner_points[0][0]\n",
    "\n",
    "    # iterate through all of the coordinates to find the outter parameters of the image\n",
    "    for i in range(1,len(corner_points)):\n",
    "        height_max = max(height_max, corner_points[i][1])\n",
    "        height_min = min(height_min, corner_points[i][1])\n",
    "        width_max = max(width_max,corner_points[i][0])\n",
    "        width_min = min(width_min, corner_points[i][0])\n",
    "\n",
    "\n",
    "    # Generate a evenly distributed line of numbers based on the \n",
    "    # min and max values, and the number of points desire in between\n",
    "    complete_width = list(np.linspace(width_min, width_max, image_dimensions[0]))\n",
    "    complete_height = list(np.linspace(height_min,height_max, image_dimensions[1]))\n",
    "\n",
    "    # Create a list of all possible coordinates \n",
    "    all_coordinates = list(itertools.product(complete_width, complete_height))\n",
    "\n",
    "    # initialize lists\n",
    "    row_ans = list()\n",
    "    final_ans = list()\n",
    "\n",
    "    # append the first entry from the list of coordinates\n",
    "    row_ans.append([all_coordinates[0][0], all_coordinates[0][1]])\n",
    "    for i in range(1,len(all_coordinates)):\n",
    "\n",
    "        # if a new row is detected, add the current row of coordinates to the final\n",
    "        # answer and reset the row\n",
    "        if all_coordinates[i][0] != row_ans[-1][0]:\n",
    "            final_ans.append(row_ans)\n",
    "            row_ans = list()\n",
    "        \n",
    "        # add the pair of coordinates to the row\n",
    "        row_ans.append([all_coordinates[i][0], all_coordinates[i][1]])\n",
    "    \n",
    "    # add the row to the final answer\n",
    "    final_ans.append(row_ans)\n",
    "    return final_ans\n",
    "\n",
    "\n"
   ]
  },
  {
   "cell_type": "code",
   "execution_count": 76,
   "metadata": {},
   "outputs": [
    {
     "data": {
      "text/plain": [
       "[[[1.0, 1.0], [1.0, 2.0], [1.0, 3.0]],\n",
       " [[2.0, 1.0], [2.0, 2.0], [2.0, 3.0]],\n",
       " [[3.0, 1.0], [3.0, 2.0], [3.0, 3.0]]]"
      ]
     },
     "execution_count": 76,
     "metadata": {},
     "output_type": "execute_result"
    }
   ],
   "source": [
    "\n",
    "image_dimensions = (3, 3)\n",
    "\n",
    "corner_points = [\n",
    "    (1, 1),  # (x, y)\n",
    "    (3, 1),  # (x, y)\n",
    "    (1, 3),  # (x, y)\n",
    "    (3, 3)   # (x, y)\n",
    "    ]\n",
    "\n",
    "createImageMatrix(corner_points, image_dimensions)"
   ]
  },
  {
   "cell_type": "code",
   "execution_count": null,
   "metadata": {},
   "outputs": [],
   "source": []
  }
 ],
 "metadata": {
  "kernelspec": {
   "display_name": "Python 3.8.5 64-bit",
   "language": "python",
   "name": "python3"
  },
  "language_info": {
   "codemirror_mode": {
    "name": "ipython",
    "version": 3
   },
   "file_extension": ".py",
   "mimetype": "text/x-python",
   "name": "python",
   "nbconvert_exporter": "python",
   "pygments_lexer": "ipython3",
   "version": "3.8.5"
  },
  "orig_nbformat": 4,
  "vscode": {
   "interpreter": {
    "hash": "f526a6196ce5de7c446cba82ba8476fc716dc0091e5abe84d23a26cb8f2a5cc1"
   }
  }
 },
 "nbformat": 4,
 "nbformat_minor": 2
}
